{
 "cells": [
  {
   "cell_type": "markdown",
   "id": "b10f6796",
   "metadata": {},
   "source": [
    "# This is first part trying to predict a winner using Support Vector machines"
   ]
  },
  {
   "cell_type": "code",
   "execution_count": 75,
   "id": "a0c82c7f",
   "metadata": {},
   "outputs": [],
   "source": [
    "import numpy as np\n",
    "import pandas as pd"
   ]
  },
  {
   "cell_type": "code",
   "execution_count": 76,
   "id": "2344d74b",
   "metadata": {},
   "outputs": [],
   "source": [
    "# The following two dataframes contains the coaches information.\n",
    "df_coaches_career = pd.read_csv('databasebasketball/coaches_career.txt')\n",
    "df_coaches_season = pd.read_csv('databasebasketball/coaches_season.txt')\n",
    "\n",
    "# The following contains indiidual player information and insite.\n",
    "df_draft = pd.read_csv('databasebasketball/draft.txt') # --> Error {Performed some pre-processing}\n",
    "df_player_allstar = pd.read_csv('databasebasketball/player_allstar.txt')\n",
    "df_player_playoffs = pd.read_csv('databasebasketball/player_playoffs.txt')\n",
    "df_player_playoffs_career = pd.read_csv('databasebasketball/player_playoffs_career.txt')\n",
    "df_player_regular_season = pd.read_csv('databasebasketball/player_regular_season.txt')\n",
    "df_player_regular_season_career = pd.read_csv('databasebasketball/player_regular_season_career.txt')\n",
    "df_players = pd.read_csv('databasebasketball/players.txt')\n",
    "\n",
    "# The following contains the teams data.\n",
    "df_team_season = pd.read_csv('databasebasketball/team_season.txt')\n",
    "df_teams = pd.read_csv('databasebasketball/teams.txt')"
   ]
  },
  {
   "cell_type": "markdown",
   "id": "1ff11bc2",
   "metadata": {},
   "source": [
    "## Since certain matrix we available after 1970s our data start from that particular year\n",
    "\n",
    "For example:\n",
    "<b>Steals</b>, <b>blocks</b> and <b>turnovers</b> were not official nba stats until the 70's. Those \n",
    "stats are listed as zero for earlier season."
   ]
  },
  {
   "cell_type": "code",
   "execution_count": 77,
   "id": "06ed3184",
   "metadata": {},
   "outputs": [],
   "source": [
    "# The following two dataframes contains the coaches information.\n",
    "# df_coaches_career = df_coaches_career.loc[df_coaches_career.year >= 1970]\n",
    "df_coaches_season = df_coaches_season.loc[df_coaches_season.year >= 1970]\n",
    "\n",
    "# # The following contains indiidual player information and insite.\n",
    "# df_draft = df_draft.loc[df_draft.year >= '1970']\n",
    "df_player_allstar = df_player_allstar.loc[df_player_allstar.year >= 1970]\n",
    "df_player_playoffs = df_player_playoffs.loc[df_player_playoffs.year >= 1970] \n",
    "#df_player_playoffs_career = df_player_playoffs_career.loc[df_player_playoffs_career.year >= 1970]\n",
    "df_player_regular_season = df_player_regular_season.loc[df_player_regular_season.year >= 1970]\n",
    "#df_player_regular_season_career = df_player_regular_season_career.loc[df_player_regular_season_career.year >= 1970]\n",
    "df_players = df_players.loc[df_players.firstseason >= 1970]\n",
    "\n",
    "# # The following contains the teams data.\n",
    "df_team_season = df_team_season.loc[df_team_season.year >= 1970]\n",
    "# df_teams = df_teams.loc[df_teams.year >= 1970]"
   ]
  },
  {
   "cell_type": "code",
   "execution_count": 78,
   "id": "520b07d8",
   "metadata": {},
   "outputs": [
    {
     "data": {
      "text/plain": [
       "2004"
      ]
     },
     "execution_count": 78,
     "metadata": {},
     "output_type": "execute_result"
    }
   ],
   "source": [
    "# len(df_player_regular_season.columns)\n",
    "df_player_regular_season.head()\n",
    "\n",
    "# drop certains columns in our data.\n",
    "df = df_player_regular_season.drop(columns=['ilkid', 'year','firstname', 'lastname', 'team', 'leag', 'minutes', 'tpa', 'tpm'])\n",
    "df.dtypes\n",
    "\n",
    "df_team_season.year.max()"
   ]
  },
  {
   "cell_type": "code",
   "execution_count": 79,
   "id": "f26ffba9",
   "metadata": {},
   "outputs": [],
   "source": [
    "# Perform some data preprocessing\n",
    "\n",
    "season_team_stat = df_team_season.drop(columns=['team', 'year', 'leag', 'pace'])\n",
    "teams = df_team_season['team']\n",
    "\n",
    "import math\n",
    "\n",
    "def win_to_loss(won, loss):\n",
    "    return math.floor((won / (won + loss) * 100))\n",
    "\n",
    "# added the target column in season_team_stat\n",
    "season_team_stat['win_loss_percent'] = season_team_stat.apply(lambda x: win_to_loss(x.won, x.lost), axis=1)"
   ]
  },
  {
   "cell_type": "code",
   "execution_count": 80,
   "id": "a4e8bd0b",
   "metadata": {},
   "outputs": [],
   "source": [
    "import math\n",
    "season_team_stat['win_loss_percent'] = season_team_stat['win_loss_percent']/100"
   ]
  },
  {
   "cell_type": "code",
   "execution_count": 81,
   "id": "d5ee14b9",
   "metadata": {},
   "outputs": [],
   "source": [
    "def round_my_value(val):\n",
    "    return int(round(x))\n",
    "\n",
    "season_team_stat['win_loss_percent'] = season_team_stat['win_loss_percent'].round()"
   ]
  },
  {
   "cell_type": "markdown",
   "id": "15ade76b",
   "metadata": {},
   "source": [
    "## Train our a model using Support Vector Machine"
   ]
  },
  {
   "cell_type": "code",
   "execution_count": 82,
   "id": "74699043",
   "metadata": {},
   "outputs": [],
   "source": [
    "import numpy as np\n",
    "from sklearn import svm\n",
    "\n",
    "X_input = season_team_stat.drop(columns=['won', 'lost', 'win_loss_percent'])\n",
    "Y_input = season_team_stat['win_loss_percent']\n",
    "\n",
    "clf = svm.SVC()"
   ]
  },
  {
   "cell_type": "code",
   "execution_count": 83,
   "id": "bff28989",
   "metadata": {},
   "outputs": [],
   "source": [
    "# fit out model\n",
    "fitted_model  = clf.fit(X_input, Y_input)"
   ]
  },
  {
   "cell_type": "markdown",
   "id": "f44c34ca",
   "metadata": {},
   "source": [
    "## Let us try testing the model"
   ]
  },
  {
   "cell_type": "code",
   "execution_count": 84,
   "id": "7cb6fc02",
   "metadata": {},
   "outputs": [],
   "source": [
    "import random as rd\n",
    "\n",
    "# guess1 = rd.randint(0,len(teams))\n",
    "# guess2 = rd.randint(0,len(teams))\n",
    "\n",
    "guess1 = 272\n",
    "guess2 = 500\n",
    "\n",
    "team1 = season_team_stat.iloc[guess1].drop(['won','lost','win_loss_percent'])\n",
    "team2 = season_team_stat.iloc[guess2].drop(['won','lost','win_loss_percent'])"
   ]
  },
  {
   "cell_type": "code",
   "execution_count": 85,
   "id": "80bc5f7d",
   "metadata": {},
   "outputs": [
    {
     "data": {
      "text/plain": [
       "array([0.])"
      ]
     },
     "execution_count": 85,
     "metadata": {},
     "output_type": "execute_result"
    }
   ],
   "source": [
    "pred_team1 = fitted_model.predict([team1])\n",
    "pred_team1"
   ]
  },
  {
   "cell_type": "code",
   "execution_count": 86,
   "id": "00cb9525",
   "metadata": {},
   "outputs": [],
   "source": [
    "pred_team2 = fitted_model.predict([team2])"
   ]
  },
  {
   "cell_type": "code",
   "execution_count": 87,
   "id": "bd0ff5a3",
   "metadata": {},
   "outputs": [
    {
     "name": "stdout",
     "output_type": "stream",
     "text": [
      "The following team is predicted to win: ATL\n"
     ]
    }
   ],
   "source": [
    "if pred_team1 > pred_team2:\n",
    "    print(f'The following team is predicted to win: {teams[guess1]}')\n",
    "else:\n",
    "    print(f'The following team is predicted to win: {teams[guess1]}')"
   ]
  },
  {
   "cell_type": "markdown",
   "id": "8878a2a6",
   "metadata": {},
   "source": [
    "## Plot our confusion matrix"
   ]
  },
  {
   "cell_type": "code",
   "execution_count": 96,
   "id": "f97eb350",
   "metadata": {},
   "outputs": [
    {
     "name": "stdout",
     "output_type": "stream",
     "text": [
      "Confusion matrix, without normalization\n",
      "[[356  86]\n",
      " [ 35 438]]\n"
     ]
    },
    {
     "data": {
      "image/png": "[encoded data removed]",
      "text/plain": [
       "<Figure size 432x288 with 1 Axes>"
      ]
     },
     "metadata": {
      "needs_background": "light"
     },
     "output_type": "display_data"
    },
    {
     "name": "stdout",
     "output_type": "stream",
     "text": [
      "              precision    recall  f1-score   support\n",
      "\n",
      "         0.0       0.91      0.81      0.85       442\n",
      "         1.0       0.84      0.93      0.88       473\n",
      "\n",
      "    accuracy                           0.87       915\n",
      "   macro avg       0.87      0.87      0.87       915\n",
      "weighted avg       0.87      0.87      0.87       915\n",
      "\n"
     ]
    }
   ],
   "source": [
    "# True y values and predicted values.\n",
    "y_true = season_team_stat['win_loss_percent']\n",
    "y_pred = fitted_model.predict(X_input)\n",
    "\n",
    "# Create a confusion matrix to gauge the accuracy of our model.\n",
    "from sklearn.metrics import confusion_matrix\n",
    "import itertools\n",
    "import matplotlib.pyplot as plt\n",
    "\n",
    "# confusion matrix.\n",
    "cm = confusion_matrix(y_true=y_true, y_pred=y_pred)\n",
    "\n",
    "\n",
    "# function to plot our confusion metrics copied from sktlearn.\n",
    "def plot_confusion_matrix(cm,\n",
    "                          classes,\n",
    "                          normalize=False,\n",
    "                          title='Confusion matrix',\n",
    "                          cmap=plt.cm.Blues):\n",
    "    \"\"\"\n",
    "    This function prints and plots the confusion metrix.\n",
    "    Normalization can be applied by by setting normalize=True.\n",
    "    \"\"\"\n",
    "    plt.imshow(cm, interpolation='nearest', cmap=cmap)\n",
    "    plt.title(title)\n",
    "    tick_marks = np.arange(len(classes))\n",
    "    plt.xticks(tick_marks, classes, rotation=45)\n",
    "    plt.yticks(tick_marks, classes)\n",
    "\n",
    "    if normalize:\n",
    "        cm = cm.astype('float') / cm.sum(axis=1)[:, np.newaxis]\n",
    "        print('Normalized confusion matrix')\n",
    "    else:\n",
    "        print('Confusion matrix, without normalization')\n",
    "\n",
    "    print(cm)\n",
    "\n",
    "    thresh = cm.max() / 2.\n",
    "    for i, j in itertools.product(range(cm.shape[0]), range(cm.shape[1])):\n",
    "        plt.text(j, i, cm[i, j], horizontalalignment='center',\n",
    "                 color='white' if cm[i, j] > thresh else \"black\")\n",
    "\n",
    "    plt.tight_layout()\n",
    "    plt.ylabel('True label')\n",
    "    plt.xlabel('Predicted label')\n",
    "    plt.show()\n",
    "\n",
    "\n",
    "# plot are confusion matrix.\n",
    "cm_plot_labels = ['correct_match', 'incorrect_match']\n",
    "plot_confusion_matrix(cm=cm, classes=cm_plot_labels, title='Confusion Matrix for Job and Candidate recommendation')\n",
    "\n",
    "# calculate some import component from our matrix.\n",
    "\"\"\"\n",
    "Precision,\n",
    "Recall,\n",
    "f1-score,\n",
    "support\n",
    "\"\"\"\n",
    "from sklearn.metrics import classification_report\n",
    "\n",
    "print(classification_report(y_true, y_pred))"
   ]
  },
  {
   "cell_type": "code",
   "execution_count": null,
   "id": "ad2f857f",
   "metadata": {},
   "outputs": [],
   "source": []
  }
 ],
 "metadata": {
  "kernelspec": {
   "display_name": "Python 3",
   "language": "python",
   "name": "python3"
  },
  "language_info": {
   "codemirror_mode": {
    "name": "ipython",
    "version": 3
   },
   "file_extension": ".py",
   "mimetype": "text/x-python",
   "name": "python",
   "nbconvert_exporter": "python",
   "pygments_lexer": "ipython3",
   "version": "3.8.8"
  }
 },
 "nbformat": 4,
 "nbformat_minor": 5
}
