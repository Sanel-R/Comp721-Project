{
 "cells": [
  {
   "cell_type": "markdown",
   "id": "c70aae64",
   "metadata": {},
   "source": [
    "# This is first part trying to predict a winner using Linear Regression"
   ]
  },
  {
   "cell_type": "code",
   "execution_count": 344,
   "id": "f8e0cb77",
   "metadata": {},
   "outputs": [],
   "source": [
    "import numpy as np\n",
    "import pandas as pd"
   ]
  },
  {
   "cell_type": "markdown",
   "id": "017f414b",
   "metadata": {},
   "source": [
    "## Data retrieval\n",
    "\n",
    "### The following key is used to understand our data in details.\n",
    "#### Key words\n",
    "- ilkid : Player unique id\n",
    "- firstname : name\n",
    "- lastname: : surname\n",
    "- leag: League that a player is playing for e.g. NBA or ABA\n",
    "- gp: Games played\n",
    "- minutes: Minute played\n",
    "- pts: Points scored\n",
    "- oreb: Offensive rebound\n",
    "- dreb: Definsive rebound \n",
    "- reb: Rebounds\n",
    "- asts: Assist to turnover ration\n",
    "- stl: Steals\n",
    "- blk: Blocks\n",
    "- turnover: Losing ball to another team or throwing the ball out of bound.\n",
    "- pf: Personal fouls\n",
    "- fga: Field goal attampted\n",
    "- fgm: Field goal made\n",
    "- fta: Field goal \n",
    "- ftm: Free through made\n",
    "- tpa: 3-Point Field Goals Attempted\n",
    "- tpm: 3-Point Field Goals Made\n"
   ]
  },
  {
   "cell_type": "markdown",
   "id": "be171837",
   "metadata": {},
   "source": [
    "'team', 'year', 'leag', 'o_fgm', 'o_fga', 'o_ftm', 'o_fta', 'o_oreb',\n",
    "       'o_dreb', 'o_reb', 'o_asts', 'o_pf', 'o_stl', 'o_to', 'o_blk', 'o_3pm',\n",
    "       'o_3pa', 'o_pts', 'd_fgm', 'd_fga', 'd_ftm', 'd_fta', 'd_oreb',\n",
    "       'd_dreb', 'd_reb', 'd_asts', 'd_pf', 'd_stl', 'd_to', 'd_blk', 'd_3pm',\n",
    "       'd_3pa', 'd_pts', 'pace', 'won', 'lost'\n",
    " \n",
    "o_fgm and d_fgm (Field of goals made): This contains a teams goals that are scored in the field of play, usually contains the free throws, 2 points, and 3 points (Offensive and Defensive respectively.)\n",
    "\n",
    "o_fga and d_fga (Field of goals attampted): This is just the field of goal attampted, both the successful and unsuccefull.\n",
    "\n",
    "o_ftm and d_ftm (Free through made): This is just the 1 point goal made in the basket, usually awarded as result of what is called a techniqual foal in basketball.\n",
    "\n",
    "o_fta and d_fta(Field of goals assist): This is just the pass that is madeand leads to a team member scoring\n",
    "\n",
    "o_oreb and d_oreb (Offensive rebound and defensive) : a rebound, sometimes colloquially referred to as a board, is a statistic awarded to a player who retrieves the ball after a missed field goal or free throw\n",
    "\n",
    "o_stl and d_stl (Offensive and defensive steals) : a steal occurs when a defensive player legally causes a turnover by their positive, aggressive action\n"
   ]
  },
  {
   "cell_type": "code",
   "execution_count": 345,
   "id": "b71d3130",
   "metadata": {},
   "outputs": [],
   "source": [
    "# The following two dataframes contains the coaches information.\n",
    "df_coaches_career = pd.read_csv('databasebasketball/coaches_career.txt')\n",
    "df_coaches_season = pd.read_csv('databasebasketball/coaches_season.txt')\n",
    "\n",
    "# The following contains indiidual player information and insite.\n",
    "df_draft = pd.read_csv('databasebasketball/draft.txt') # --> Error {Performed some pre-processing}\n",
    "df_player_allstar = pd.read_csv('databasebasketball/player_allstar.txt')\n",
    "df_player_playoffs = pd.read_csv('databasebasketball/player_playoffs.txt')\n",
    "df_player_playoffs_career = pd.read_csv('databasebasketball/player_playoffs_career.txt')\n",
    "df_player_regular_season = pd.read_csv('databasebasketball/player_regular_season.txt')\n",
    "df_player_regular_season_career = pd.read_csv('databasebasketball/player_regular_season_career.txt')\n",
    "df_players = pd.read_csv('databasebasketball/players.txt')\n",
    "\n",
    "# The following contains the teams data.\n",
    "df_team_season = pd.read_csv('databasebasketball/team_season.txt')\n",
    "df_teams = pd.read_csv('databasebasketball/teams.txt')"
   ]
  },
  {
   "cell_type": "code",
   "execution_count": 346,
   "id": "0ded7fa2",
   "metadata": {
    "scrolled": true
   },
   "outputs": [],
   "source": [
    "# df_player_allstar.head() \n",
    "\n",
    "# import collections\n",
    "# all_star_appearances = collections.defaultdict(set)\n",
    "\n",
    "# min_year = df_player_allstar['year'].min()\n",
    "# max_year = df_player_allstar['year'].max()\n",
    "\n",
    "# test_min = 1950\n",
    "# test_max = 1952\n",
    "\n",
    "# for year in range(min_year, max_year):\n",
    "#     # for l_year in range(min_year, max_year):\n",
    "#     all_stars_df = df_player_allstar.loc[df_player_allstar.year==year] \n",
    "#     name_surname = (all_stars_df['firstname']+' '+ all_stars_df['lastname']).tolist()\n",
    "#     year = all_stars_df['year'].tolist()\n",
    "    \n",
    "#     max_elements = len(name_surname)\n",
    "    \n",
    "#     # add the elements in the map.\n",
    "#     for index in range(0, max_elements):\n",
    "#         all_star_appearances[name_surname[index]].add(year[index])\n",
    "        \n",
    "# # all_star_appearances"
   ]
  },
  {
   "cell_type": "markdown",
   "id": "71dd2b61",
   "metadata": {},
   "source": [
    "## Since certain matrix we available after 1970s our data start from that particular year\n",
    "\n",
    "For example:\n",
    "<b>Steals</b>, <b>blocks</b> and <b>turnovers</b> were not official nba stats until the 70's. Those \n",
    "stats are listed as zero for earlier season."
   ]
  },
  {
   "cell_type": "code",
   "execution_count": 347,
   "id": "ec9bef83",
   "metadata": {},
   "outputs": [],
   "source": [
    "# The following two dataframes contains the coaches information.\n",
    "# df_coaches_career = df_coaches_career.loc[df_coaches_career.year >= 1970]\n",
    "df_coaches_season = df_coaches_season.loc[df_coaches_season.year >= 1970]\n",
    "\n",
    "# # The following contains indiidual player information and insite.\n",
    "# df_draft = df_draft.loc[df_draft.year >= '1970']\n",
    "df_player_allstar = df_player_allstar.loc[df_player_allstar.year >= 1970]\n",
    "df_player_playoffs = df_player_playoffs.loc[df_player_playoffs.year >= 1970] \n",
    "#df_player_playoffs_career = df_player_playoffs_career.loc[df_player_playoffs_career.year >= 1970]\n",
    "df_player_regular_season = df_player_regular_season.loc[df_player_regular_season.year >= 1970]\n",
    "#df_player_regular_season_career = df_player_regular_season_career.loc[df_player_regular_season_career.year >= 1970]\n",
    "df_players = df_players.loc[df_players.firstseason >= 1970]\n",
    "\n",
    "# # The following contains the teams data.\n",
    "df_team_season = df_team_season.loc[df_team_season.year >= 1970]\n",
    "# df_teams = df_teams.loc[df_teams.year >= 1970]"
   ]
  },
  {
   "cell_type": "markdown",
   "id": "d6681ad6",
   "metadata": {},
   "source": [
    "## The following attributes we deemed important for creating a feature vector"
   ]
  },
  {
   "cell_type": "code",
   "execution_count": 348,
   "id": "2d6520a7",
   "metadata": {},
   "outputs": [
    {
     "data": {
      "text/plain": [
       "2004"
      ]
     },
     "execution_count": 348,
     "metadata": {},
     "output_type": "execute_result"
    }
   ],
   "source": [
    "# len(df_player_regular_season.columns)\n",
    "df_player_regular_season.head()\n",
    "\n",
    "# drop certains columns in our data.\n",
    "df = df_player_regular_season.drop(columns=['ilkid', 'year','firstname', 'lastname', 'team', 'leag', 'minutes', 'tpa', 'tpm'])\n",
    "df.dtypes\n",
    "\n",
    "df_team_season.year.max()"
   ]
  },
  {
   "cell_type": "markdown",
   "id": "01285c47",
   "metadata": {},
   "source": [
    "## Determing a winning team\n",
    "<i>For this implementation a linear regression model was used: </i>\n",
    "\n",
    "    * We will calculate a win to loss ratio and make that as our target value.\n",
    "        * Calculated as follows:\n",
    "              * win_to_loss_ratio = (win / win + loss)"
   ]
  },
  {
   "cell_type": "code",
   "execution_count": 349,
   "id": "b7c07b44",
   "metadata": {
    "scrolled": true
   },
   "outputs": [],
   "source": [
    "# Perform some data preprocessing\n",
    "\n",
    "season_team_stat = df_team_season.drop(columns=['team', 'year', 'leag', 'pace'])\n",
    "teams = df_team_season['team']\n",
    "\n",
    "import math\n",
    "\n",
    "def win_to_loss(won, loss):\n",
    "    return math.floor((won / (won + loss)) * 100)\n",
    "\n",
    "# added the target column in season_team_stat\n",
    "season_team_stat['win_loss_percent'] = season_team_stat.apply(lambda x: win_to_loss(x.won, x.lost), axis=1)"
   ]
  },
  {
   "cell_type": "code",
   "execution_count": 350,
   "id": "48986937",
   "metadata": {},
   "outputs": [
    {
     "data": {
      "text/plain": [
       "LinearRegression()"
      ]
     },
     "execution_count": 350,
     "metadata": {},
     "output_type": "execute_result"
    }
   ],
   "source": [
    "from sklearn import linear_model\n",
    "\n",
    "# create a linear regression object.\n",
    "reg = linear_model.LinearRegression()\n",
    "\n",
    "# input values.\n",
    "X_input = season_team_stat.drop(columns=['won', 'lost', 'win_loss_percent'])\n",
    "Y_input = season_team_stat.win_loss_percent\n",
    "\n",
    "# fit our model.\n",
    "reg.fit(X_input, Y_input)"
   ]
  },
  {
   "cell_type": "code",
   "execution_count": 351,
   "id": "69f5b0b2",
   "metadata": {
    "scrolled": true
   },
   "outputs": [
    {
     "data": {
      "text/plain": [
       "array([-1.81982791e-01, -2.50692817e-04, -9.17571855e-02,  5.10110362e-04,\n",
       "        2.23839045e-03,  3.12538103e-03, -2.13574822e-03,  1.03818978e-03,\n",
       "       -3.66203820e-03,  5.29162338e-03, -1.82197098e-03,  2.36635999e-03,\n",
       "       -8.65176007e-02, -6.91378765e-04,  1.26073997e-01, -6.32086824e-01,\n",
       "        5.49391224e-03, -3.20829173e-01,  6.19984023e-03,  9.32646499e-04,\n",
       "       -2.62519252e-03, -2.02820330e-03, -1.53541888e-03,  4.03530523e-03,\n",
       "       -5.47918926e-03,  6.21048468e-04, -8.97843185e-03, -3.16575878e-01,\n",
       "        4.85875282e-04,  2.78317438e-01])"
      ]
     },
     "execution_count": 351,
     "metadata": {},
     "output_type": "execute_result"
    }
   ],
   "source": [
    "# Let us look at the coeffience of our model\n",
    "reg.coef_"
   ]
  },
  {
   "cell_type": "code",
   "execution_count": 352,
   "id": "473417f1",
   "metadata": {},
   "outputs": [
    {
     "data": {
      "text/plain": [
       "43.53436867092078"
      ]
     },
     "execution_count": 352,
     "metadata": {},
     "output_type": "execute_result"
    }
   ],
   "source": [
    "# Let us look at the way intercept.\n",
    "reg.intercept_"
   ]
  },
  {
   "cell_type": "markdown",
   "id": "596ad141",
   "metadata": {},
   "source": [
    "## Let us try testing the model"
   ]
  },
  {
   "cell_type": "code",
   "execution_count": 353,
   "id": "21d6060f",
   "metadata": {},
   "outputs": [],
   "source": [
    "import random as rd\n",
    "\n",
    "# guess1 = rd. randint(0,len(teams))\n",
    "# guess2 = rd. randint(0,len(teams\n",
    "                           \n",
    "guess1 = 272\n",
    "guess2 = 500\n",
    "\n",
    "team1 = season_team_stat.iloc[guess1].drop(['won','lost','win_loss_percent'])\n",
    "team2 = season_team_stat.iloc[guess2].drop(['won','lost','win_loss_percent'])"
   ]
  },
  {
   "cell_type": "code",
   "execution_count": 354,
   "id": "0fbee41c",
   "metadata": {},
   "outputs": [
    {
     "data": {
      "text/plain": [
       "array([44.03705042])"
      ]
     },
     "execution_count": 354,
     "metadata": {},
     "output_type": "execute_result"
    }
   ],
   "source": [
    "pred_team1 = reg.predict([team1])\n",
    "pred_team1"
   ]
  },
  {
   "cell_type": "code",
   "execution_count": 355,
   "id": "7fe87214",
   "metadata": {},
   "outputs": [],
   "source": [
    "pred_team2 = reg.predict([team2])"
   ]
  },
  {
   "cell_type": "code",
   "execution_count": 356,
   "id": "9ae68ab6",
   "metadata": {
    "scrolled": true
   },
   "outputs": [
    {
     "name": "stdout",
     "output_type": "stream",
     "text": [
      "The following team is predicted to win: ATL\n"
     ]
    }
   ],
   "source": [
    "if pred_team1 > pred_team2:\n",
    "    print(f'The following team is predicted to win: {teams[guess1]}')\n",
    "else:\n",
    "    print(f'The following team is predicted to win: {teams[guess1]}')"
   ]
  },
  {
   "cell_type": "markdown",
   "id": "9f523c8d",
   "metadata": {},
   "source": [
    "## Testing the error of our model, since we using a regression model"
   ]
  },
  {
   "cell_type": "code",
   "execution_count": 357,
   "id": "d176addc",
   "metadata": {},
   "outputs": [
    {
     "name": "stdout",
     "output_type": "stream",
     "text": [
      "The mean squared error of our model is: 15.518814431580513%\n"
     ]
    }
   ],
   "source": [
    "# Calculate the mean-squered error.\n",
    "\n",
    "# example of calculate the mean squared error\n",
    "from sklearn.metrics import mean_squared_error\n",
    "\n",
    "y_true = season_team_stat.win_loss_percent\n",
    "y_pred = reg.predict(X_input)\n",
    "\n",
    "# calculate mean squared error\n",
    "errors = mean_squared_error(y_true, y_pred)\n",
    "\n",
    "print(f'The mean squared error of our model is: {errors}%')"
   ]
  },
  {
   "cell_type": "code",
   "execution_count": 358,
   "id": "2cb1b8b0",
   "metadata": {},
   "outputs": [
    {
     "name": "stdout",
     "output_type": "stream",
     "text": [
      "The root mean squared error of our model is: 3.9393926475512075%\n"
     ]
    }
   ],
   "source": [
    "# calculate root mean square error\n",
    "errors = mean_squared_error(y_true, y_pred, squared=False)\n",
    "\n",
    "print(f'The root mean squared error of our model is: {errors}%')"
   ]
  },
  {
   "cell_type": "markdown",
   "id": "4f627422",
   "metadata": {},
   "source": [
    "# Second method using SVM"
   ]
  },
  {
   "cell_type": "code",
   "execution_count": null,
   "id": "1e41b06b",
   "metadata": {},
   "outputs": [],
   "source": []
  }
 ],
 "metadata": {
  "kernelspec": {
   "display_name": "Python 3",
   "language": "python",
   "name": "python3"
  },
  "language_info": {
   "codemirror_mode": {
    "name": "ipython",
    "version": 3
   },
   "file_extension": ".py",
   "mimetype": "text/x-python",
   "name": "python",
   "nbconvert_exporter": "python",
   "pygments_lexer": "ipython3",
   "version": "3.8.8"
  }
 },
 "nbformat": 4,
 "nbformat_minor": 5
}
